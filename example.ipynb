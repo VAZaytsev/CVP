{
 "cells": [
  {
   "cell_type": "markdown",
   "id": "f07703a2",
   "metadata": {},
   "source": [
    "Here we will go through the crucial steps from the main.py file (steps, which are related to checks are omitted). First, some modules are loaded"
   ]
  },
  {
   "cell_type": "code",
   "execution_count": 16,
   "id": "c177d58c",
   "metadata": {},
   "outputs": [],
   "source": [
    "import Cowtan\n",
    "import sys"
   ]
  },
  {
   "cell_type": "markdown",
   "id": "11699b87",
   "metadata": {},
   "source": [
    "In the input file (here \"file.inp\") the commuting Pauli strings with coefficients, which will form the Pauli gadgets, are entered line by line"
   ]
  },
  {
   "cell_type": "code",
   "execution_count": 26,
   "id": "cec954f5",
   "metadata": {},
   "outputs": [
    {
     "name": "stdout",
     "output_type": "stream",
     "text": [
      "YXXX -0.125\n",
      "XYXX -0.125\n",
      "XXYX 0.125\n",
      "YYYX -0.125\n",
      "XXXY 0.125\n",
      "YYXY -0.125\n",
      "YXYY 0.125\n",
      "XYYY 0.125\n"
     ]
    }
   ],
   "source": [
    "fl_inp = open(\"file.inp\",\"r\")\n",
    "\n",
    "ps_arr = []\n",
    "coef_arr = []\n",
    "for ln in fl_inp.readlines():\n",
    "    p, c = ln.split()\n",
    "    ps_arr.append(p)\n",
    "    coef_arr.append(float(c))\n",
    "    print(p,c)"
   ]
  },
  {
   "cell_type": "markdown",
   "id": "48d36b9f",
   "metadata": {},
   "source": [
    "This input is equivalent to \n",
    "\n",
    "exp{i (XXXY + XXYX - XYXX - YXXX - YYYX - YYXY + YXYY + XYYY) / 8}\n",
    "\n",
    "This is the double excitation operator in the Jordan-Wigner mapping\n",
    "\n",
    "First the circuit is created"
   ]
  },
  {
   "cell_type": "code",
   "execution_count": 27,
   "id": "ffb09b9b",
   "metadata": {},
   "outputs": [
    {
     "name": "stdout",
     "output_type": "stream",
     "text": [
      "Number of qubits =  4\n",
      "\n",
      " -0.125*YXXX_3210 -0.125*XYXX_3210 0.125*XXYX_3210 -0.125*YYYX_3210 0.125*XXXY_3210 -0.125*YYXY_3210 0.125*YXYY_3210 0.125*XYYY_3210 \n"
     ]
    }
   ],
   "source": [
    "Nq = len(ps_arr[0])\n",
    "print(\"Number of qubits = \", Nq)\n",
    "\n",
    "# Create the circuit\n",
    "zx_circ = Cowtan.zx_circ_cls(Nq)\n",
    "for i,ps in enumerate(ps_arr):\n",
    "    zx_circ.add_pauli_gadget(ps, coef=coef_arr[i])\n",
    "\n",
    "print(\"\\n\",zx_circ)"
   ]
  },
  {
   "cell_type": "markdown",
   "id": "21aa0737",
   "metadata": {},
   "source": [
    "Here ```coef*P_alpha``` stands for the Pauli gadget ```e^{i*coef*P}```, where ```alpha``` indicates on which qubits particular Pauli matrix acts on.\n",
    "\n",
    "Now we launch the Cowtan-Simmons-Duncan algorithm"
   ]
  },
  {
   "cell_type": "code",
   "execution_count": 28,
   "id": "7740b440",
   "metadata": {},
   "outputs": [
    {
     "name": "stdout",
     "output_type": "stream",
     "text": [
      "p_3 H_2 H_1 H_0 CX_01 CX_12 CX_23 H_0 H_1 p_2 -0.125*Z_3 0.125*Z_2 -0.125*ZZ_21 0.125*ZZ_31 -0.125*ZZZ_210 0.125*ZZZ_310 -0.125*ZZ_30 0.125*ZZ_20 m_2 H_1 H_0 CX_23 CX_12 CX_01 m_3 H_2 H_1 H_0 \n"
     ]
    }
   ],
   "source": [
    "zx_circ.cowtan()\n",
    "print(zx_circ)"
   ]
  },
  {
   "cell_type": "markdown",
   "id": "f1b492f2",
   "metadata": {},
   "source": [
    "Here:\n",
    "- ```H_i``` stands for the Hadamard gate acting on ```i``` qubit\n",
    "- ```CX_ij``` stands for the CNOT gate with the control and target qubits being ```i``` and ```j```, respectively\n",
    "- ```p_i``` and ```m_i``` stands for the ```R_x(pi/2)``` and ```R_x(-pi/2)``` gates acting on ```i``` qubit\n",
    "\n",
    "It is seen that all Pauli gadgets are converted to phase gadgets ```exp(i*theta*P)``` with ```P``` consisting only out of ```Z``` and ```I``` matrices.\n",
    "\n",
    "Now we apply the Vandaele-Martiel-Brugiere and Patel-Markov-Hayes algorithms"
   ]
  },
  {
   "cell_type": "code",
   "execution_count": 29,
   "id": "f0b5af2b",
   "metadata": {},
   "outputs": [
    {
     "name": "stdout",
     "output_type": "stream",
     "text": [
      "p_3 H_2 H_1 H_0 CX_01 CX_12 CX_23 H_0 H_1 p_2 -0.125*Z_3 0.125*Z_2 CX_02 0.125*Z_2 CX_12 -0.125*Z_2 CX_02 -0.125*Z_2 CX_30 -0.125*Z_0 CX_10 0.125*Z_0 CX_31 0.125*Z_1 CX_12 CX_32 CX_10 CX_31 m_2 H_1 H_0 CX_23 CX_12 CX_01 m_3 H_2 H_1 H_0 \n"
     ]
    }
   ],
   "source": [
    "zx_circ.vandaele_patel()\n",
    "print(zx_circ)"
   ]
  },
  {
   "cell_type": "markdown",
   "id": "f686e144",
   "metadata": {},
   "source": [
    "We can also see the number of single-qubit and CNOT gates used in this circuit"
   ]
  },
  {
   "cell_type": "code",
   "execution_count": 30,
   "id": "78d08145",
   "metadata": {},
   "outputs": [
    {
     "name": "stdout",
     "output_type": "stream",
     "text": [
      "Single Qubit Gates =  22 CNOTs =  16\n"
     ]
    }
   ],
   "source": [
    "nsqC, ncx = zx_circ.stats()\n",
    "print( \"Single Qubit Gates = \", nsqC, \"CNOTs = \", ncx )"
   ]
  },
  {
   "cell_type": "markdown",
   "id": "faaf8e9d",
   "metadata": {},
   "source": [
    "Let us note that direct (greedy) convertation of the initial Phase gadgets to the  circuit one gets 40 CNOT gates and 56 single-qubit gates.\n",
    "\n",
    "It is also possible to represent the circuit as a set of comands for the ```quantikz```. "
   ]
  },
  {
   "cell_type": "code",
   "execution_count": 32,
   "id": "d4279a04",
   "metadata": {},
   "outputs": [
    {
     "name": "stdout",
     "output_type": "stream",
     "text": [
      "\\qw & \\qw & \\qw & \\gate{H} & \\ctrl{1} & \\qw & \\qw & \\gate{H} & \\qw & \\qw & \\qw & \\qw & \\ctrl{2} & \\qw & \\qw & \\qw & \\ctrl{2} & \\qw & \\targ{} & \\gate{R_z(-0.125)} & \\targ{} & \\gate{R_z(0.125)} & \\qw & \\qw & \\qw & \\qw & \\targ{} & \\qw & \\qw & \\qw & \\gate{H} & \\qw & \\qw & \\ctrl{1} & \\qw & \\qw & \\qw & \\gate{H} & \n",
      "\\\\\n",
      "\\qw & \\qw & \\gate{H} & \\qw & \\targ{} & \\ctrl{1} & \\qw & \\qw & \\gate{H} & \\qw & \\qw & \\qw & \\qw & \\qw & \\ctrl{1} & \\qw & \\qw & \\qw & \\qw & \\qw & \\ctrl{-1} & \\qw & \\targ{} & \\gate{R_z(0.125)} & \\ctrl{1} & \\qw & \\ctrl{-1} & \\targ{} & \\qw & \\gate{H} & \\qw & \\qw & \\ctrl{1} & \\targ{} & \\qw & \\qw & \\gate{H} & \\qw & \n",
      "\\\\\n",
      "\\qw & \\gate{H} & \\qw & \\qw & \\qw & \\targ{} & \\ctrl{1} & \\qw & \\qw & \\gate{V} & \\qw & \\gate{R_z(0.125)} & \\targ{} & \\gate{R_z(0.125)} & \\targ{} & \\gate{R_z(-0.125)} & \\targ{} & \\gate{R_z(-0.125)} & \\qw & \\qw & \\qw & \\qw & \\qw & \\qw & \\targ{} & \\targ{} & \\qw & \\qw & \\gate{V^\\dagger} & \\qw & \\qw & \\ctrl{1} & \\targ{} & \\qw & \\qw & \\gate{H} & \\qw & \\qw & \n",
      "\\\\\n",
      "\\gate{V} & \\qw & \\qw & \\qw & \\qw & \\qw & \\targ{} & \\qw & \\qw & \\qw & \\gate{R_z(-0.125)} & \\qw & \\qw & \\qw & \\qw & \\qw & \\qw & \\qw & \\ctrl{-3} & \\qw & \\qw & \\qw & \\ctrl{-2} & \\qw & \\qw & \\ctrl{-1} & \\qw & \\ctrl{-2} & \\qw & \\qw & \\qw & \\targ{} & \\qw & \\qw & \\gate{V^\\dagger} & \\qw & \\qw & \\qw & \n"
     ]
    }
   ],
   "source": [
    "zx_circ.qasm()"
   ]
  },
  {
   "cell_type": "markdown",
   "id": "db33c559",
   "metadata": {},
   "source": [
    "This code will produce the following circuit\n",
    "![title](graph/double_complete.png)"
   ]
  },
  {
   "cell_type": "code",
   "execution_count": null,
   "id": "7edeef33",
   "metadata": {},
   "outputs": [],
   "source": []
  }
 ],
 "metadata": {
  "kernelspec": {
   "display_name": "Python 3 (ipykernel)",
   "language": "python",
   "name": "python3"
  },
  "language_info": {
   "codemirror_mode": {
    "name": "ipython",
    "version": 3
   },
   "file_extension": ".py",
   "mimetype": "text/x-python",
   "name": "python",
   "nbconvert_exporter": "python",
   "pygments_lexer": "ipython3",
   "version": "3.7.3"
  }
 },
 "nbformat": 4,
 "nbformat_minor": 5
}
